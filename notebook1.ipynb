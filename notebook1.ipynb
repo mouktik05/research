{
  "nbformat": 4,
  "nbformat_minor": 0,
  "metadata": {
    "colab": {
      "provenance": []
    },
    "kernelspec": {
      "name": "python3",
      "display_name": "Python 3"
    },
    "language_info": {
      "name": "python"
    }
  },
  "cells": [
    {
      "cell_type": "code",
      "source": [
        "!pip install biopython\n",
        "from Bio import Entrez\n",
        "from Bio import SeqIO\n",
        "\n",
        "# Set your email address (required by NCBI Entrez)\n",
        "Entrez.email = \"aleksandra.m.karolak@gmail.com\"\n",
        "\n",
        "# Define the gene symbol\n",
        "gene_symbol = \"USP28\"\n",
        "\n",
        "# Search NCBI Gene database for the gene symbol\n",
        "handle = Entrez.esearch(db=\"gene\", term=f\"{gene_symbol}[Gene Name] AND Homo sapiens[Organism]\")\n",
        "record = Entrez.read(handle)"
      ],
      "metadata": {
        "colab": {
          "base_uri": "https://localhost:8080/"
        },
        "id": "OvPgjI9DYObV",
        "outputId": "37da1e92-6db9-4909-f91d-402b4485267f"
      },
      "execution_count": 1,
      "outputs": [
        {
          "output_type": "stream",
          "name": "stdout",
          "text": [
            "Collecting biopython\n",
            "  Downloading biopython-1.83-cp310-cp310-manylinux_2_17_x86_64.manylinux2014_x86_64.whl (3.1 MB)\n",
            "\u001b[2K     \u001b[90m━━━━━━━━━━━━━━━━━━━━━━━━━━━━━━━━━━━━━━━━\u001b[0m \u001b[32m3.1/3.1 MB\u001b[0m \u001b[31m20.7 MB/s\u001b[0m eta \u001b[36m0:00:00\u001b[0m\n",
            "\u001b[?25hRequirement already satisfied: numpy in /usr/local/lib/python3.10/dist-packages (from biopython) (1.25.2)\n",
            "Installing collected packages: biopython\n",
            "Successfully installed biopython-1.83\n"
          ]
        }
      ]
    },
    {
      "cell_type": "code",
      "execution_count": 2,
      "metadata": {
        "colab": {
          "base_uri": "https://localhost:8080/"
        },
        "id": "mu84qx8XYM02",
        "outputId": "75f9e479-5265-40e4-e10d-0b8c73332c7e"
      },
      "outputs": [
        {
          "output_type": "stream",
          "name": "stdout",
          "text": [
            "The chromosome location of USP28 gene is: NR_174609\n"
          ]
        }
      ],
      "source": [
        "if record[\"Count\"] == \"0\":\n",
        "    print(f\"No gene record found for {gene_symbol}\")\n",
        "else:\n",
        "    # Get the first gene ID from the search results\n",
        "    gene_id = record[\"IdList\"][0]\n",
        "\n",
        "    # Fetch the gene information using the gene ID\n",
        "    gene_handle = Entrez.efetch(db=\"gene\", id=gene_id, retmode=\"xml\")\n",
        "    gene_record = Entrez.read(gene_handle)\n",
        "\n",
        "    # Extract chromosome location information\n",
        "    chromosome = gene_record[0][\"Entrezgene_locus\"][0][\"Gene-commentary_products\"][0][\"Gene-commentary_accession\"]\n",
        "\n",
        "    print(f\"The chromosome location of {gene_symbol} gene is: {chromosome}\")\n",
        "\n",
        "    gene_handle.close()\n",
        "handle.close()"
      ]
    },
    {
      "cell_type": "code",
      "source": [],
      "metadata": {
        "id": "7fLDvv0LzTOa"
      },
      "execution_count": null,
      "outputs": []
    },
    {
      "cell_type": "code",
      "source": [
        "def get_gene_info(gene_symbol):\n",
        "    try:\n",
        "        # Search NCBI Gene database for the gene symbol\n",
        "        handle = Entrez.esearch(db=\"gene\", term=f\"{gene_symbol}[Gene Name] AND Homo sapiens[Organism]\")\n",
        "        record = Entrez.read(handle)\n",
        "\n",
        "        if record[\"Count\"] == \"0\":\n",
        "            print(f\"No gene record found for {gene_symbol}\")\n",
        "            return None\n",
        "\n",
        "        # Get the first gene ID from the search results\n",
        "        gene_id = record[\"IdList\"][0]\n",
        "\n",
        "        # Fetch the gene information using the gene ID\n",
        "        gene_handle = Entrez.efetch(db=\"gene\", id=gene_id, retmode=\"xml\")\n",
        "        gene_record = Entrez.read(gene_handle)\n",
        "\n",
        "        # Extract chromosome location information\n",
        "        chromosome = gene_record[0][\"Entrezgene_locus\"][0][\"Gene-commentary_products\"][0][\"Gene-commentary_accession\"]\n",
        "        gene_start = gene_record[0][\"Entrezgene_locus\"][0][\"Gene-commentary_products\"][0][\"Gene-commentary_intervals\"][0][\"Seq-interval_from\"]\n",
        "        gene_end = gene_record[0][\"Entrezgene_locus\"][0][\"Gene-commentary_products\"][0][\"Gene-commentary_intervals\"][0][\"Seq-interval_to\"]\n",
        "\n",
        "        print(f\"Gene Symbol: {gene_symbol}\")\n",
        "        print(f\"Chromosome: {chromosome}\")\n",
        "        print(f\"Gene Start Position: {gene_start}\")\n",
        "        print(f\"Gene End Position: {gene_end}\")\n",
        "\n",
        "        gene_handle.close()\n",
        "        handle.close()\n",
        "\n",
        "    except Exception as e:\n",
        "        print(f\"Error: {e}\")\n",
        "\n",
        "# Call the function with the gene symbol\n",
        "get_gene_info(gene_symbol)"
      ],
      "metadata": {
        "id": "q3h8qNjwZjgp",
        "outputId": "92d05f4b-f1f7-432f-882a-422183e61a51",
        "colab": {
          "base_uri": "https://localhost:8080/"
        }
      },
      "execution_count": 4,
      "outputs": [
        {
          "output_type": "stream",
          "name": "stdout",
          "text": [
            "Error: 'Gene-commentary_intervals'\n"
          ]
        }
      ]
    },
    {
      "cell_type": "code",
      "source": [
        "import re\n",
        "\n",
        "def parse_variant(variant_str):\n",
        "    # Define a regular expression pattern to extract information\n",
        "    pattern = r'^(ENST\\d+)\\((\\w+)\\):c\\.(-?\\d+)([ACGTNacgtn])>([ACGTNacgtn])$'\n",
        "\n",
        "    # Use regex to match the pattern in the variant string\n",
        "    match = re.match(pattern, variant_str)\n",
        "\n",
        "    if match:\n",
        "        enst = match.group(1)  # ENST ID\n",
        "        gene_name = match.group(2)  # Gene name\n",
        "        position = match.group(3)  # Position\n",
        "        ref_base = match.group(4).upper()  # Reference base\n",
        "        alt_base = match.group(5).upper()  # Alternate base\n",
        "\n",
        "        return enst, gene_name, position, ref_base, alt_base\n",
        "    else:\n",
        "        raise ValueError(\"Invalid variant string format\")\n",
        "\n",
        "# Example usage:\n",
        "variant_str = \"ENST00000608377(DNAH9):c.-237A>T\"\n",
        "enst, gene_name, position, ref_base, alt_base = parse_variant(variant_str)\n",
        "\n",
        "print(\"ENST:\", enst)\n",
        "print(\"Gene Name:\", gene_name)\n",
        "print(\"Position:\", position)\n",
        "print(\"Reference Base:\", ref_base)\n",
        "print(\"Alternate Base:\", alt_base)\n"
      ],
      "metadata": {
        "colab": {
          "base_uri": "https://localhost:8080/"
        },
        "id": "qaGhWBNHzSJ9",
        "outputId": "bce52330-bb01-4b80-f4e7-635342b6070b"
      },
      "execution_count": 8,
      "outputs": [
        {
          "output_type": "stream",
          "name": "stdout",
          "text": [
            "ENST: ENST00000608377 , DNAH9\n",
            "\n",
            "Position: -237\n",
            "Reference Base: A\n",
            "Alternate Base: T\n"
          ]
        }
      ]
    }
  ]
}