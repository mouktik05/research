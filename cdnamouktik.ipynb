{
  "nbformat": 4,
  "nbformat_minor": 0,
  "metadata": {
    "colab": {
      "provenance": [],
      "include_colab_link": true
    },
    "kernelspec": {
      "name": "python3",
      "display_name": "Python 3"
    },
    "language_info": {
      "name": "python"
    }
  },
  "cells": [
    {
      "cell_type": "markdown",
      "metadata": {
        "id": "view-in-github",
        "colab_type": "text"
      },
      "source": [
        "<a href=\"https://colab.research.google.com/github/mouktik05/research/blob/main/cdnamouktik.ipynb\" target=\"_parent\"><img src=\"https://colab.research.google.com/assets/colab-badge.svg\" alt=\"Open In Colab\"/></a>"
      ]
    },
    {
      "cell_type": "code",
      "source": [
        "pip install biopython requests\n"
      ],
      "metadata": {
        "colab": {
          "base_uri": "https://localhost:8080/"
        },
        "collapsed": true,
        "id": "0BVxpP263neJ",
        "outputId": "d67477d1-e1a1-46dc-e47d-c9d6e98c49ea"
      },
      "execution_count": null,
      "outputs": [
        {
          "output_type": "stream",
          "name": "stdout",
          "text": [
            "Requirement already satisfied: biopython in /usr/local/lib/python3.10/dist-packages (1.83)\n",
            "Requirement already satisfied: requests in /usr/local/lib/python3.10/dist-packages (2.31.0)\n",
            "Requirement already satisfied: numpy in /usr/local/lib/python3.10/dist-packages (from biopython) (1.25.2)\n",
            "Requirement already satisfied: charset-normalizer<4,>=2 in /usr/local/lib/python3.10/dist-packages (from requests) (3.3.2)\n",
            "Requirement already satisfied: idna<4,>=2.5 in /usr/local/lib/python3.10/dist-packages (from requests) (3.7)\n",
            "Requirement already satisfied: urllib3<3,>=1.21.1 in /usr/local/lib/python3.10/dist-packages (from requests) (2.0.7)\n",
            "Requirement already satisfied: certifi>=2017.4.17 in /usr/local/lib/python3.10/dist-packages (from requests) (2024.6.2)\n"
          ]
        }
      ]
    },
    {
      "cell_type": "code",
      "source": [
        "import requests"
      ],
      "metadata": {
        "id": "AZU2B8qY9c0t"
      },
      "execution_count": null,
      "outputs": []
    },
    {
      "cell_type": "code",
      "execution_count": null,
      "metadata": {
        "id": "ZB-AIPaK3bvY"
      },
      "outputs": [],
      "source": [
        "def get_transcript_exons(transcript_id):\n",
        "    \"\"\"Fetch exon information for a given Ensembl transcript ID.\"\"\"\n",
        "    url = f\"https://rest.ensembl.org/overlap/id/{transcript_id}?feature=gene;content-type=application/json\"\n",
        "    #url = f\"https://grch37.rest.ensembl.org/overlap/id/{transcript_id}?feature=gene;content-type=application/json\"\n",
        "    #https://grch37.rest.ensembl.org/overlap/id/ENST00000025008?feature=gene;content-type=application/json\n",
        "    #https://rest.ensembl.org/overlap/id/ENST00000025008?feature=gene;content-type=application/json\n",
        "    #response = requests.get(url, headers={\"Content-Type\": \"application/json\"})\n",
        "    response = requests.get(url, json={\"start\": \"value\"})\n",
        "    if response.status_code != 200:\n",
        "        raise Exception(f\"API request failed with status code {response.status_code}\")\n",
        "    return response.json()\n",
        "\n",
        "def map_cdna_to_genomic(transcript_id, cdna_position):\n",
        "    \"\"\"Map a cDNA position to a genomic coordinate using Ensembl.\"\"\"\n",
        "    exons = get_transcript_exons(transcript_id)\n",
        "    total_cdna_len = 0\n",
        "    for exon in sorted(exons, key=lambda x: x['start']):\n",
        "        exon_cdna_start = total_cdna_len + 1\n",
        "        exon_cdna_end = total_cdna_len + exon['end'] - exon['start'] + 1\n",
        "        total_cdna_len = exon_cdna_end\n",
        "\n",
        "        if exon_cdna_start <= cdna_position <= exon_cdna_end:\n",
        "            genomic_pos = exon['start'] + (cdna_position - exon_cdna_start)\n",
        "            return exon['seq_region_name'], genomic_pos, exon['strand']\n",
        "\n",
        "    raise ValueError(f\"cDNA position {cdna_position} out of range for transcript {transcript_id}\")\n"
      ]
    },
    {
      "cell_type": "code",
      "source": [
        "\n",
        "transcript_id = \"ENST00000003302\"  # Replace with your transcript ID for USP28\n",
        "cdna_position = 1589  # Replace with your cDNA position\n",
        "chromosome, genomic_position, strand = map_cdna_to_genomic(transcript_id, cdna_position)\n",
        "print(f\"Chromosome: {chromosome}, Genomic Position: {genomic_position}, Strand: {strand}\")\n",
        "\n"
      ],
      "metadata": {
        "colab": {
          "base_uri": "https://localhost:8080/",
          "height": 211
        },
        "id": "Q0I385Ff4SdG",
        "outputId": "10b6cd68-abc9-4158-805b-2b5d23971083"
      },
      "execution_count": 1,
      "outputs": [
        {
          "output_type": "error",
          "ename": "NameError",
          "evalue": "name 'map_cdna_to_genomic' is not defined",
          "traceback": [
            "\u001b[0;31m---------------------------------------------------------------------------\u001b[0m",
            "\u001b[0;31mNameError\u001b[0m                                 Traceback (most recent call last)",
            "\u001b[0;32m<ipython-input-1-a574863475c7>\u001b[0m in \u001b[0;36m<cell line: 3>\u001b[0;34m()\u001b[0m\n\u001b[1;32m      1\u001b[0m \u001b[0mtranscript_id\u001b[0m \u001b[0;34m=\u001b[0m \u001b[0;34m\"ENST00000003302\"\u001b[0m  \u001b[0;31m# Replace with your transcript ID for USP28\u001b[0m\u001b[0;34m\u001b[0m\u001b[0;34m\u001b[0m\u001b[0m\n\u001b[1;32m      2\u001b[0m \u001b[0mcdna_position\u001b[0m \u001b[0;34m=\u001b[0m \u001b[0;36m1589\u001b[0m  \u001b[0;31m# Replace with your cDNA position\u001b[0m\u001b[0;34m\u001b[0m\u001b[0;34m\u001b[0m\u001b[0m\n\u001b[0;32m----> 3\u001b[0;31m \u001b[0mchromosome\u001b[0m\u001b[0;34m,\u001b[0m \u001b[0mgenomic_position\u001b[0m\u001b[0;34m,\u001b[0m \u001b[0mstrand\u001b[0m \u001b[0;34m=\u001b[0m \u001b[0mmap_cdna_to_genomic\u001b[0m\u001b[0;34m(\u001b[0m\u001b[0mtranscript_id\u001b[0m\u001b[0;34m,\u001b[0m \u001b[0mcdna_position\u001b[0m\u001b[0;34m)\u001b[0m\u001b[0;34m\u001b[0m\u001b[0;34m\u001b[0m\u001b[0m\n\u001b[0m\u001b[1;32m      4\u001b[0m \u001b[0mprint\u001b[0m\u001b[0;34m(\u001b[0m\u001b[0;34mf\"Chromosome: {chromosome}, Genomic Position: {genomic_position}, Strand: {strand}\"\u001b[0m\u001b[0;34m)\u001b[0m\u001b[0;34m\u001b[0m\u001b[0;34m\u001b[0m\u001b[0m\n\u001b[1;32m      5\u001b[0m \u001b[0;34m\u001b[0m\u001b[0m\n",
            "\u001b[0;31mNameError\u001b[0m: name 'map_cdna_to_genomic' is not defined"
          ]
        }
      ]
    },
    {
      "cell_type": "markdown",
      "source": [
        "[{\"version\":1,\"end\":107517092,\"external_name\":\"RP11-797M17.1\",\"description\":null,\"canonical_transcript\":\"ENST00000547679.1\",\"id\":\"ENSG00000257548\",\"seq_region_name\":\"12\",\"logic_name\":\"havana_homo_sapiens_37\",\"source\":\"havana\",\"feature_type\":\"gene\",\"gene_id\":\"ENSG00000257548\",\"assembly_name\":\"GRCh37\",\"biotype\":\"antisense\",\"strand\":1,\"start\":107487076},{\"feature_type\":\"gene\",\"gene_id\":\"ENSG00000008405\",\"source\":\"ensembl_havana\",\"logic_name\":\"ensembl_havana_gene_homo_sapiens_37\",\"start\":107385142,\"strand\":-1,\"biotype\":\"protein_coding\",\"assembly_name\":\"GRCh37\",\"seq_region_name\":\"12\",\"canonical_transcript\":\"ENST00000008527.5\",\"id\":\"ENSG00000008405\",\"description\":\"cryptochrome 1 (photolyase-like) [Source:HGNC Symbol;Acc:2384]\",\"external_name\":\"CRY1\",\"end\":107487607,\"version\":7}]"
      ],
      "metadata": {
        "id": "I6pFFq1779z4"
      }
    }
  ]
}