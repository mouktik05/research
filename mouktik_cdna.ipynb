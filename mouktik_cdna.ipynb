{
  "nbformat": 4,
  "nbformat_minor": 0,
  "metadata": {
    "colab": {
      "provenance": [],
      "include_colab_link": true
    },
    "kernelspec": {
      "name": "python3",
      "display_name": "Python 3"
    },
    "language_info": {
      "name": "python"
    }
  },
  "cells": [
    {
      "cell_type": "markdown",
      "metadata": {
        "id": "view-in-github",
        "colab_type": "text"
      },
      "source": [
        "<a href=\"https://colab.research.google.com/github/mouktik05/research/blob/main/mouktik_cdna.ipynb\" target=\"_parent\"><img src=\"https://colab.research.google.com/assets/colab-badge.svg\" alt=\"Open In Colab\"/></a>"
      ]
    },
    {
      "cell_type": "code",
      "source": [
        "pip install biopython requests\n"
      ],
      "metadata": {
        "colab": {
          "base_uri": "https://localhost:8080/"
        },
        "collapsed": true,
        "id": "0BVxpP263neJ",
        "outputId": "932c629c-522d-4487-93bd-2cc36999e970"
      },
      "execution_count": 1,
      "outputs": [
        {
          "output_type": "stream",
          "name": "stdout",
          "text": [
            "Collecting biopython\n",
            "  Downloading biopython-1.83-cp310-cp310-manylinux_2_17_x86_64.manylinux2014_x86_64.whl (3.1 MB)\n",
            "\u001b[2K     \u001b[90m━━━━━━━━━━━━━━━━━━━━━━━━━━━━━━━━━━━━━━━━\u001b[0m \u001b[32m3.1/3.1 MB\u001b[0m \u001b[31m7.9 MB/s\u001b[0m eta \u001b[36m0:00:00\u001b[0m\n",
            "\u001b[?25hRequirement already satisfied: requests in /usr/local/lib/python3.10/dist-packages (2.31.0)\n",
            "Requirement already satisfied: numpy in /usr/local/lib/python3.10/dist-packages (from biopython) (1.25.2)\n",
            "Requirement already satisfied: charset-normalizer<4,>=2 in /usr/local/lib/python3.10/dist-packages (from requests) (3.3.2)\n",
            "Requirement already satisfied: idna<4,>=2.5 in /usr/local/lib/python3.10/dist-packages (from requests) (3.7)\n",
            "Requirement already satisfied: urllib3<3,>=1.21.1 in /usr/local/lib/python3.10/dist-packages (from requests) (2.0.7)\n",
            "Requirement already satisfied: certifi>=2017.4.17 in /usr/local/lib/python3.10/dist-packages (from requests) (2024.6.2)\n",
            "Installing collected packages: biopython\n",
            "Successfully installed biopython-1.83\n"
          ]
        }
      ]
    },
    {
      "cell_type": "code",
      "source": [
        "import requests"
      ],
      "metadata": {
        "id": "AZU2B8qY9c0t"
      },
      "execution_count": 2,
      "outputs": []
    },
    {
      "cell_type": "code",
      "execution_count": 3,
      "metadata": {
        "id": "ZB-AIPaK3bvY"
      },
      "outputs": [],
      "source": [
        "def get_transcript_exons(transcript_id):\n",
        "    \"\"\"Fetch exon information for a given Ensembl transcript ID.\"\"\"\n",
        "    #url = f\"https://rest.ensembl.org/overlap/id/{transcript_id}?feature=gene;content-type=application/json\"\n",
        "    url = f\"https://grch37.rest.ensembl.org/overlap/id/{transcript_id}?feature=gene;content-type=application/json\"\n",
        "    #https://grch37.rest.ensembl.org/overlap/id/ENST00000025008?feature=gene;content-type=application/json\n",
        "    #https://rest.ensembl.org/overlap/id/ENST00000025008?feature=gene;content-type=application/json\n",
        "    #response = requests.get(url, headers={\"Content-Type\": \"application/json\"})\n",
        "    response = requests.get(url, json={\"start\": \"value\"})\n",
        "    if response.status_code != 200:\n",
        "        raise Exception(f\"API request failed with status code {response.status_code}\")\n",
        "    return response.json()\n",
        "\n",
        "def map_cdna_to_genomic(transcript_id, cdna_position):\n",
        "    \"\"\"Map a cDNA position to a genomic coordinate using Ensembl.\"\"\"\n",
        "    exons = get_transcript_exons(transcript_id)\n",
        "    total_cdna_len = 0\n",
        "    for exon in sorted(exons, key=lambda x: x['start']):\n",
        "        exon_cdna_start = total_cdna_len + 1\n",
        "        exon_cdna_end = total_cdna_len + exon['end'] - exon['start'] + 1\n",
        "        total_cdna_len = exon_cdna_end\n",
        "\n",
        "        if exon_cdna_start <= cdna_position <= exon_cdna_end:\n",
        "            genomic_pos = exon['start'] + (cdna_position - exon_cdna_start)\n",
        "            return exon['seq_region_name'], genomic_pos, exon['strand']\n",
        "\n",
        "    raise ValueError(f\"cDNA position {cdna_position} out of range for transcript {transcript_id}\")\n"
      ]
    },
    {
      "cell_type": "code",
      "source": [
        "\n",
        "transcript_id = \"ENST00000008527\"  # Replace with your transcript ID for USP28\n",
        "cdna_position = 1589  # Replace with your cDNA position\n",
        "chromosome, genomic_position, strand = map_cdna_to_genomic(transcript_id, cdna_position)\n",
        "print(f\"Chromosome: {chromosome}, Genomic Position: {genomic_position}, Strand: {strand}\")\n",
        "\n"
      ],
      "metadata": {
        "colab": {
          "base_uri": "https://localhost:8080/"
        },
        "id": "Q0I385Ff4SdG",
        "outputId": "31acc0b9-1beb-4ddc-c6f4-5aaad7528dae"
      },
      "execution_count": 4,
      "outputs": [
        {
          "output_type": "stream",
          "name": "stdout",
          "text": [
            "Chromosome: 12, Genomic Position: 107386730, Strand: -1\n"
          ]
        }
      ]
    },
    {
      "cell_type": "markdown",
      "source": [],
      "metadata": {
        "id": "I6pFFq1779z4"
      }
    }
  ]
}